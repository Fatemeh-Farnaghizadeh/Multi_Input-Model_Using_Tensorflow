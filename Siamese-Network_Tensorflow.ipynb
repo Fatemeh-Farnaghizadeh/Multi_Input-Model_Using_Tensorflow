{
 "cells": [
  {
   "cell_type": "markdown",
   "id": "da7c2a70",
   "metadata": {},
   "source": [
    "# Imports"
   ]
  },
  {
   "cell_type": "code",
   "execution_count": 31,
   "id": "76d8b7bb",
   "metadata": {},
   "outputs": [],
   "source": [
    "import tensorflow as tf\n",
    "import numpy as np\n",
    "\n",
    "from tensorflow.keras.layers import Dense, Input, Lambda, Flatten, Dropout\n",
    "from tensorflow.keras.models import Model\n",
    "from tensorflow.keras.datasets import mnist\n",
    "from tensorflow.keras import backend as K\n",
    "from tensorflow.keras.optimizers import RMSprop\n",
    "\n",
    "import matplotlib.pyplot as plt"
   ]
  },
  {
   "cell_type": "markdown",
   "id": "f1617a81",
   "metadata": {},
   "source": [
    "# Preparing Data"
   ]
  },
  {
   "cell_type": "code",
   "execution_count": 32,
   "id": "4489147a",
   "metadata": {},
   "outputs": [],
   "source": [
    "def make_pairs(images, labels):\n",
    "\n",
    "    pairImages = []\n",
    "    pairLabels = []\n",
    "    numClasses = len(np.unique(labels))\n",
    "    idx = [np.where(labels == i)[0] for i in range(0, numClasses)]\n",
    "    for idxA in range(len(images)):\n",
    "        currentImage = images[idxA]\n",
    "        label = labels[idxA]\n",
    "        idxB = np.random.choice(idx[label])\n",
    "        posImage = images[idxB]\n",
    "        pairImages.append([currentImage, posImage])\n",
    "        pairLabels.append([1])\n",
    "        negIdx = np.where(labels != label)[0]\n",
    "        negImage = images[np.random.choice(negIdx)]\n",
    "        pairImages.append([currentImage, negImage])\n",
    "        pairLabels.append([0])\n",
    "    return (np.array(pairImages), np.array(pairLabels))"
   ]
  },
  {
   "cell_type": "code",
   "execution_count": 33,
   "id": "34e39c90",
   "metadata": {},
   "outputs": [],
   "source": [
    "(x_train, y_train),(x_test, y_test)=mnist.load_data()\n",
    "\n",
    "x_train=x_train.astype('float32')\n",
    "x_test=x_test.astype('float32')\n",
    "\n",
    "x_train=x_train / 255.0\n",
    "x_test=x_test / 255.0\n",
    "\n",
    "(pair_train, label_train) = make_pairs(x_train, y_train)\n",
    "(pair_test, label_test) = make_pairs(x_test, y_test)\n",
    "\n",
    "label_train=label_train.astype('float32')\n",
    "label_test=label_test.astype('float32')"
   ]
  },
  {
   "cell_type": "code",
   "execution_count": 34,
   "id": "dbac5487",
   "metadata": {},
   "outputs": [
    {
     "name": "stdout",
     "output_type": "stream",
     "text": [
      "<class 'numpy.ndarray'>\n"
     ]
    },
    {
     "data": {
      "image/png": "[encoded data removed]",
      "text/plain": [
       "<Figure size 432x288 with 1 Axes>"
      ]
     },
     "metadata": {
      "needs_background": "light"
     },
     "output_type": "display_data"
    },
    {
     "data": {
      "image/png": "[encoded data removed]",
      "text/plain": [
       "<Figure size 432x288 with 1 Axes>"
      ]
     },
     "metadata": {
      "needs_background": "light"
     },
     "output_type": "display_data"
    },
    {
     "name": "stdout",
     "output_type": "stream",
     "text": [
      "[1.]\n"
     ]
    }
   ],
   "source": [
    "print(type(x_train))\n",
    "plt.figure()\n",
    "plt.imshow(pair_train[0][0])\n",
    "plt.figure()\n",
    "plt.imshow(pair_train[0][1])\n",
    "plt.show()\n",
    "print(label_train[0])\n"
   ]
  },
  {
   "cell_type": "markdown",
   "id": "4ef20f7e",
   "metadata": {},
   "source": [
    "# Model"
   ]
  },
  {
   "cell_type": "code",
   "execution_count": 35,
   "id": "40ac2e09",
   "metadata": {},
   "outputs": [],
   "source": [
    "def base_model():\n",
    "    \n",
    "    input=Input(shape=(28,28,))\n",
    "    x=Flatten()(input)\n",
    "    x=Dense(128, activation='relu')(x)\n",
    "    x=Dropout(0.1)(x)\n",
    "    x=Dense(128, activation='relu')(x)\n",
    "    x=Dropout(0.1)(x)\n",
    "    x=Dense(128, activation='relu')(x)\n",
    "    \n",
    "    model=Model(inputs=input, outputs=x)\n",
    "    \n",
    "    return model\n"
   ]
  },
  {
   "cell_type": "code",
   "execution_count": 36,
   "id": "b2721e82",
   "metadata": {},
   "outputs": [],
   "source": [
    "def cal_eclidean_dist(vects):\n",
    "    \n",
    "    x, y = vects\n",
    "    sum_square = K.sum(K.square(x - y), axis=1, keepdims=True)\n",
    "    \n",
    "    return K.sqrt(K.maximum(sum_square, K.epsilon()))\n",
    "    \n",
    "    "
   ]
  },
  {
   "cell_type": "code",
   "execution_count": 37,
   "id": "91399b4d",
   "metadata": {},
   "outputs": [],
   "source": [
    "base=base_model()\n",
    "input_val_a=Input(shape=(28, 28,))\n",
    "outpu_value_a=base(input_val_a)\n",
    "input_val_b=Input(shape=(28,28,))\n",
    "out_put_val_b=base(input_val_b)\n",
    "output= Lambda(cal_eclidean_dist)([outpu_value_a, out_put_val_b])\n",
    "model=Model(inputs=[input_val_a, input_val_b], outputs=output)\n"
   ]
  },
  {
   "cell_type": "code",
   "execution_count": 38,
   "id": "951b7274",
   "metadata": {},
   "outputs": [],
   "source": [
    "def contrastive_loss_with_margin(margin):\n",
    "    def contrastive_loss(y_true, y_pred):\n",
    "\n",
    "        square_pred = K.square(y_pred)\n",
    "        margin_square = K.square(K.maximum(margin - y_pred, 0))\n",
    "        return K.mean(y_true * square_pred + (1 - y_true) * margin_square)\n",
    "    return contrastive_loss"
   ]
  },
  {
   "cell_type": "code",
   "execution_count": 39,
   "id": "02dc7f29",
   "metadata": {},
   "outputs": [],
   "source": [
    "rms=RMSprop()\n",
    "model.compile(optimizer=rms,\n",
    "             loss=contrastive_loss_with_margin(margin=1)\n",
    "             )"
   ]
  },
  {
   "cell_type": "code",
   "execution_count": 40,
   "id": "4369852a",
   "metadata": {},
   "outputs": [
    {
     "name": "stdout",
     "output_type": "stream",
     "text": [
      "Epoch 1/20\n",
      "938/938 [==============================] - 4s 4ms/step - loss: 0.0920 - val_loss: 0.0449\n",
      "Epoch 2/20\n",
      "938/938 [==============================] - 4s 4ms/step - loss: 0.0397 - val_loss: 0.0327\n",
      "Epoch 3/20\n",
      "938/938 [==============================] - 4s 4ms/step - loss: 0.0283 - val_loss: 0.0287\n",
      "Epoch 4/20\n",
      "938/938 [==============================] - 4s 4ms/step - loss: 0.0227 - val_loss: 0.0274\n",
      "Epoch 5/20\n",
      "938/938 [==============================] - 4s 4ms/step - loss: 0.0195 - val_loss: 0.0271\n",
      "Epoch 6/20\n",
      "938/938 [==============================] - 4s 4ms/step - loss: 0.0176 - val_loss: 0.0248\n",
      "Epoch 7/20\n",
      "938/938 [==============================] - 4s 4ms/step - loss: 0.0154 - val_loss: 0.0247\n",
      "Epoch 8/20\n",
      "938/938 [==============================] - 4s 4ms/step - loss: 0.0140 - val_loss: 0.0241\n",
      "Epoch 9/20\n",
      "938/938 [==============================] - 4s 4ms/step - loss: 0.0132 - val_loss: 0.0251\n",
      "Epoch 10/20\n",
      "938/938 [==============================] - 4s 4ms/step - loss: 0.0123 - val_loss: 0.0252\n",
      "Epoch 11/20\n",
      "938/938 [==============================] - 4s 4ms/step - loss: 0.0120 - val_loss: 0.0247\n",
      "Epoch 12/20\n",
      "938/938 [==============================] - 4s 5ms/step - loss: 0.0115 - val_loss: 0.0266\n",
      "Epoch 13/20\n",
      "938/938 [==============================] - 4s 4ms/step - loss: 0.0110 - val_loss: 0.0254\n",
      "Epoch 14/20\n",
      "938/938 [==============================] - 4s 4ms/step - loss: 0.0107 - val_loss: 0.0242\n",
      "Epoch 15/20\n",
      "938/938 [==============================] - 4s 4ms/step - loss: 0.0104 - val_loss: 0.0245\n",
      "Epoch 16/20\n",
      "938/938 [==============================] - 4s 4ms/step - loss: 0.0101 - val_loss: 0.0252\n",
      "Epoch 17/20\n",
      "938/938 [==============================] - 4s 4ms/step - loss: 0.0097 - val_loss: 0.0251\n",
      "Epoch 18/20\n",
      "938/938 [==============================] - 4s 4ms/step - loss: 0.0096 - val_loss: 0.0248\n",
      "Epoch 19/20\n",
      "938/938 [==============================] - 4s 4ms/step - loss: 0.0094 - val_loss: 0.0261\n",
      "Epoch 20/20\n",
      "938/938 [==============================] - 4s 4ms/step - loss: 0.0094 - val_loss: 0.0255\n"
     ]
    }
   ],
   "source": [
    "history = model.fit([pair_train[:,0], pair_train[:,1]], \n",
    "                    label_train, epochs=20, \n",
    "                    batch_size=128, \n",
    "                    validation_data=([pair_test[:,0], pair_test[:,1]],label_test)\n",
    "                   )"
   ]
  },
  {
   "cell_type": "markdown",
   "id": "c7ab0ce1",
   "metadata": {},
   "source": [
    "# Test Model"
   ]
  },
  {
   "cell_type": "code",
   "execution_count": 49,
   "id": "517bad1d",
   "metadata": {},
   "outputs": [
    {
     "name": "stdout",
     "output_type": "stream",
     "text": [
      "1/1 [==============================] - 0s 66ms/step\n",
      "[[0.02791174]]\n",
      "[1.]\n",
      "1/1 [==============================] - 0s 15ms/step\n",
      "[[0.98705125]]\n",
      "[0.]\n"
     ]
    }
   ],
   "source": [
    "print(model.predict([pair_test[2, 0], pair_test[2, 1]]))\n",
    "print(label_test[2])\n",
    "print(model.predict([pair_test[101, 0], pair_test[101, 1]]))\n",
    "print(label_test[7])"
   ]
  },
  {
   "cell_type": "code",
   "execution_count": 47,
   "id": "9eba8b1f",
   "metadata": {},
   "outputs": [],
   "source": [
    "def cal_accuracy(y_true, y_pred):\n",
    "    \n",
    "    pred = np.ravel(y_pred) < 0.5\n",
    "    int_pred=pred.astype(int)\n",
    "    count=0\n",
    "    for i in range(len(pred)):\n",
    "        if int_pred[i] == y_true[i]:\n",
    "            count += 1\n",
    "        \n",
    "    return count / len(pred)\n",
    "    "
   ]
  },
  {
   "cell_type": "code",
   "execution_count": 48,
   "id": "3d48adec",
   "metadata": {},
   "outputs": [
    {
     "name": "stdout",
     "output_type": "stream",
     "text": [
      "625/625 [==============================] - 1s 1ms/step\n",
      "0.9716\n",
      "3750/3750 [==============================] - 4s 1ms/step\n",
      "0.995525\n"
     ]
    }
   ],
   "source": [
    "pred_test=model.predict([pair_test[:, 0], pair_test[:, 1]])\n",
    "accuracy=cal_accuracy(label_test, pred_test)\n",
    "print(accuracy)\n",
    "y_pred_train = model.predict([pair_train[:, 0], pair_train[:, 1]])\n",
    "train_accuracy = cal_accuracy(label_train, y_pred_train)\n",
    "print(train_accuracy)"
   ]
  },
  {
   "cell_type": "code",
   "execution_count": null,
   "id": "cdb58079",
   "metadata": {},
   "outputs": [],
   "source": []
  }
 ],
 "metadata": {
  "kernelspec": {
   "display_name": "Python 3 (ipykernel)",
   "language": "python",
   "name": "python3"
  },
  "language_info": {
   "codemirror_mode": {
    "name": "ipython",
    "version": 3
   },
   "file_extension": ".py",
   "mimetype": "text/x-python",
   "name": "python",
   "nbconvert_exporter": "python",
   "pygments_lexer": "ipython3",
   "version": "3.9.12"
  }
 },
 "nbformat": 4,
 "nbformat_minor": 5
}
